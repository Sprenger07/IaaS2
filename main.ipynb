{
 "cells": [
  {
   "cell_type": "code",
   "execution_count": 1,
   "metadata": {},
   "outputs": [],
   "source": [
    "import os"
   ]
  },
  {
   "cell_type": "code",
   "execution_count": 37,
   "metadata": {},
   "outputs": [],
   "source": [
    "import psycopg2\n",
    "from psycopg2 import pool"
   ]
  },
  {
   "attachments": {},
   "cell_type": "markdown",
   "metadata": {},
   "source": [
    "Récupération du mot de passe (Variable d'environnement)"
   ]
  },
  {
   "cell_type": "code",
   "execution_count": 3,
   "metadata": {},
   "outputs": [],
   "source": [
    "PASSWORD = os.environ.get('PASSWORD')"
   ]
  },
  {
   "attachments": {},
   "cell_type": "markdown",
   "metadata": {},
   "source": [
    "Initialisation des variables de connexion à Azure"
   ]
  },
  {
   "cell_type": "code",
   "execution_count": 74,
   "metadata": {},
   "outputs": [],
   "source": [
    "dbname='postgres' \n",
    "user='azure_admin@sprengerdemo' \n",
    "host='sprengerdemo.postgres.database.azure.com' \n",
    "password=PASSWORD \n",
    "port='5432' \n",
    "sslmode='require'\n"
   ]
  },
  {
   "attachments": {},
   "cell_type": "markdown",
   "metadata": {},
   "source": [
    "# 4) Connection à Azure"
   ]
  },
  {
   "cell_type": "code",
   "execution_count": 75,
   "metadata": {},
   "outputs": [],
   "source": [
    "conn = psycopg2.connect(dbname=dbname, user=user, password=password, host=host, port=port, sslmode=sslmode)"
   ]
  },
  {
   "attachments": {},
   "cell_type": "markdown",
   "metadata": {},
   "source": [
    "# 5) Création de tables et des schémas"
   ]
  },
  {
   "cell_type": "code",
   "execution_count": 91,
   "metadata": {},
   "outputs": [],
   "source": [
    "cursor = conn.cursor()"
   ]
  },
  {
   "attachments": {},
   "cell_type": "markdown",
   "metadata": {},
   "source": [
    "On va créer une table `Alert` pour stocker les alertes dans la base de données pour tracker les cryptos et envoyer un mail de notification si le prix d'une monnaie est au-dessus ou en dessous d'une valeur prédéfinie par un utilisateur.\n",
    "\n",
    "Une alerte est composée d'un `mail` de contact, d'une crypto monnaies `currency`, d'un prix `price` la valeur de seuil, ainsi qu'une méthode `method` contenant la valeur `below` ou `above`."
   ]
  },
  {
   "cell_type": "code",
   "execution_count": 90,
   "metadata": {},
   "outputs": [],
   "source": [
    "create_table_query = \"\"\"\n",
    "    CREATE TABLE IF NOT EXISTS alert (\n",
    "        id SERIAL PRIMARY KEY,\n",
    "        mail VARCHAR(255),\n",
    "        currency VARCHAR(255),\n",
    "        price FLOAT,\n",
    "        method VARCHAR(255)\n",
    "    )\n",
    "\"\"\"\n",
    "\n",
    "cursor.execute(create_table_query)\n",
    "conn.commit()"
   ]
  },
  {
   "attachments": {},
   "cell_type": "markdown",
   "metadata": {},
   "source": [
    "# 6) Exécution de requêtes SQL à distance pour récupérer des données et alimenter la base de données de nouvelle valeur"
   ]
  },
  {
   "attachments": {},
   "cell_type": "markdown",
   "metadata": {},
   "source": [
    "On va alimenter la base de données de nouvelle et les push sur Azure"
   ]
  },
  {
   "cell_type": "code",
   "execution_count": 93,
   "metadata": {},
   "outputs": [],
   "source": [
    "insert_data_query = \"\"\"\n",
    "    INSERT INTO alert (mail, currency, price, method)\n",
    "    VALUES ('test@gmail.com', 'BTC', 1000, 'above')\n",
    "\"\"\"\n",
    "\n",
    "cursor.execute(insert_data_query)\n",
    "conn.commit()"
   ]
  },
  {
   "cell_type": "code",
   "execution_count": 94,
   "metadata": {},
   "outputs": [],
   "source": [
    "insert_data_query = \"\"\"\n",
    "    INSERT INTO alert (mail, currency, price, method)\n",
    "    VALUES ('test@gmail.com', 'BTC', 3000, 'above')\n",
    "\"\"\"\n",
    "\n",
    "cursor.execute(insert_data_query)\n",
    "conn.commit()"
   ]
  },
  {
   "cell_type": "code",
   "execution_count": 101,
   "metadata": {},
   "outputs": [],
   "source": [
    "insert_data_query = \"\"\"\n",
    "    INSERT INTO alert (mail, currency, price, method)\n",
    "    VALUES ('test@gmail.com', 'ETH', 5000, 'below')\n",
    "\"\"\"\n",
    "\n",
    "cursor.execute(insert_data_query)\n",
    "conn.commit()"
   ]
  },
  {
   "attachments": {},
   "cell_type": "markdown",
   "metadata": {},
   "source": [
    "On récupère toute les données de la base de données Azure"
   ]
  },
  {
   "cell_type": "code",
   "execution_count": 97,
   "metadata": {},
   "outputs": [
    {
     "name": "stdout",
     "output_type": "stream",
     "text": [
      "(1, 'test@gmail.com', 'BTC', 1000.0, 'above')\n",
      "(2, 'test@gmail.com', 'BTC', 1000.0, 'above')\n",
      "(3, 'test@gmail.com', 'BTC', 3000.0, 'above')\n",
      "(4, 'test@gmail.com', 'ETH', 1000.0, 'below')\n"
     ]
    }
   ],
   "source": [
    "select_all_query = \"SELECT * FROM alert\"\n",
    "cursor.execute(select_all_query)\n",
    "rows = cursor.fetchall()\n",
    "for row in rows:\n",
    "    print(row)"
   ]
  },
  {
   "attachments": {},
   "cell_type": "markdown",
   "metadata": {},
   "source": [
    "On récupère uniquement les alertes de BITCOIN dans la base de données d'Azure"
   ]
  },
  {
   "cell_type": "code",
   "execution_count": 103,
   "metadata": {},
   "outputs": [
    {
     "name": "stdout",
     "output_type": "stream",
     "text": [
      "(1, 'test@gmail.com', 'BTC', 1000.0, 'above')\n",
      "(2, 'test@gmail.com', 'BTC', 1000.0, 'above')\n",
      "(3, 'test@gmail.com', 'BTC', 3000.0, 'above')\n"
     ]
    }
   ],
   "source": [
    "select_query = \"SELECT * FROM alert WHERE currency = 'BTC' AND method = 'above'\"\n",
    "cursor.execute(select_query)\n",
    "\n",
    "rows = cursor.fetchall()\n",
    "for row in rows:\n",
    "    print(row)"
   ]
  },
  {
   "attachments": {},
   "cell_type": "markdown",
   "metadata": {},
   "source": [
    "### 7) Expérimentation des opérations de lecture (SELECT), d’insertion (INSERT), de mise à jour (UPDATE) et de suppression (DELETE) de données dans la base de données"
   ]
  },
  {
   "attachments": {},
   "cell_type": "markdown",
   "metadata": {},
   "source": [
    "On va mettre à jour une alerte déja présente dans la base de données"
   ]
  },
  {
   "cell_type": "code",
   "execution_count": 104,
   "metadata": {},
   "outputs": [],
   "source": [
    "update_query = \"\"\"\n",
    "    UPDATE alert\n",
    "    SET price = 1500\n",
    "    WHERE id = 1\n",
    "\"\"\"\n",
    "\n",
    "cursor.execute(update_query)\n",
    "conn.commit()"
   ]
  },
  {
   "attachments": {},
   "cell_type": "markdown",
   "metadata": {},
   "source": [
    "On remarque bien que la valeur a bien été modifiée"
   ]
  },
  {
   "cell_type": "code",
   "execution_count": 105,
   "metadata": {},
   "outputs": [
    {
     "name": "stdout",
     "output_type": "stream",
     "text": [
      "(2, 'test@gmail.com', 'BTC', 1000.0, 'above')\n",
      "(3, 'test@gmail.com', 'BTC', 3000.0, 'above')\n",
      "(4, 'test@gmail.com', 'ETH', 1000.0, 'below')\n",
      "(5, 'test@gmail.com', 'BTC', 1000.0, 'below')\n",
      "(6, 'test@gmail.com', 'BTC', 5000.0, 'below')\n",
      "(7, 'test@gmail.com', 'ETH', 5000.0, 'below')\n",
      "(1, 'test@gmail.com', 'BTC', 1500.0, 'above')\n"
     ]
    }
   ],
   "source": [
    "select_all_query = \"SELECT * FROM alert\"\n",
    "cursor.execute(select_all_query)\n",
    "rows = cursor.fetchall()\n",
    "for row in rows:\n",
    "    print(row)"
   ]
  },
  {
   "attachments": {},
   "cell_type": "markdown",
   "metadata": {},
   "source": [
    "On va rajouter un faux compte dans la base données."
   ]
  },
  {
   "cell_type": "code",
   "execution_count": 110,
   "metadata": {},
   "outputs": [],
   "source": [
    "insert_data_query = \"\"\"\n",
    "    INSERT INTO alert (mail, currency, price, method)\n",
    "    VALUES ('fake_account@gmail.com', 'ETH', 5500, 'below')\n",
    "\"\"\"\n",
    "\n",
    "cursor.execute(insert_data_query)\n",
    "conn.commit()"
   ]
  },
  {
   "cell_type": "code",
   "execution_count": 112,
   "metadata": {},
   "outputs": [
    {
     "name": "stdout",
     "output_type": "stream",
     "text": [
      "(2, 'test@gmail.com', 'BTC', 1000.0, 'above')\n",
      "(3, 'test@gmail.com', 'BTC', 3000.0, 'above')\n",
      "(4, 'test@gmail.com', 'ETH', 1000.0, 'below')\n",
      "(5, 'test@gmail.com', 'BTC', 1000.0, 'below')\n",
      "(6, 'test@gmail.com', 'BTC', 5000.0, 'below')\n",
      "(7, 'test@gmail.com', 'ETH', 5000.0, 'below')\n",
      "(1, 'test@gmail.com', 'BTC', 1500.0, 'above')\n",
      "(8, 'fake_account@gmail.com', 'ETH', 5000.0, 'below')\n",
      "(9, 'fake_account@gmail.com', 'ETH', 5500.0, 'below')\n",
      "(10, 'fake_account@gmail.com', 'ETH', 5500.0, 'below')\n",
      "(11, 'fake_account@gmail.com', 'ETH', 5500.0, 'below')\n",
      "(12, 'fake_account@gmail.com', 'ETH', 5500.0, 'below')\n"
     ]
    }
   ],
   "source": [
    "select_all_query = \"SELECT * FROM alert\"\n",
    "cursor.execute(select_all_query)\n",
    "rows = cursor.fetchall()\n",
    "for row in rows:\n",
    "    print(row)"
   ]
  },
  {
   "attachments": {},
   "cell_type": "markdown",
   "metadata": {},
   "source": [
    "On va supprimer le faux compte de notre base de données"
   ]
  },
  {
   "cell_type": "code",
   "execution_count": 113,
   "metadata": {},
   "outputs": [],
   "source": [
    "delete_query = \"\"\"\n",
    "    DELETE FROM alert\n",
    "    WHERE mail = 'fake_account@gmail.com'\n",
    "\"\"\"\n",
    "\n",
    "cursor.execute(delete_query)\n",
    "conn.commit()"
   ]
  },
  {
   "attachments": {},
   "cell_type": "markdown",
   "metadata": {},
   "source": [
    "On a bien notre faux compte qui a été supprimée."
   ]
  },
  {
   "cell_type": "code",
   "execution_count": 114,
   "metadata": {},
   "outputs": [
    {
     "name": "stdout",
     "output_type": "stream",
     "text": [
      "(2, 'test@gmail.com', 'BTC', 1000.0, 'above')\n",
      "(3, 'test@gmail.com', 'BTC', 3000.0, 'above')\n",
      "(4, 'test@gmail.com', 'ETH', 1000.0, 'below')\n",
      "(5, 'test@gmail.com', 'BTC', 1000.0, 'below')\n",
      "(6, 'test@gmail.com', 'BTC', 5000.0, 'below')\n",
      "(7, 'test@gmail.com', 'ETH', 5000.0, 'below')\n",
      "(1, 'test@gmail.com', 'BTC', 1500.0, 'above')\n"
     ]
    }
   ],
   "source": [
    "select_all_query = \"SELECT * FROM alert\"\n",
    "cursor.execute(select_all_query)\n",
    "rows = cursor.fetchall()\n",
    "for row in rows:\n",
    "    print(row)"
   ]
  },
  {
   "cell_type": "code",
   "execution_count": 115,
   "metadata": {},
   "outputs": [],
   "source": [
    "cursor.close()\n",
    "conn.close()"
   ]
  }
 ],
 "metadata": {
  "kernelspec": {
   "display_name": "Python 3",
   "language": "python",
   "name": "python3"
  },
  "language_info": {
   "codemirror_mode": {
    "name": "ipython",
    "version": 3
   },
   "file_extension": ".py",
   "mimetype": "text/x-python",
   "name": "python",
   "nbconvert_exporter": "python",
   "pygments_lexer": "ipython3",
   "version": "3.8.10"
  },
  "orig_nbformat": 4
 },
 "nbformat": 4,
 "nbformat_minor": 2
}
